{
  "nbformat": 4,
  "nbformat_minor": 0,
  "metadata": {
    "colab": {
      "provenance": []
    },
    "kernelspec": {
      "name": "python3",
      "display_name": "Python 3"
    },
    "language_info": {
      "name": "python"
    }
  },
  "cells": [
    {
      "cell_type": "markdown",
      "source": [
        "#Data Types and Structures:-"
      ],
      "metadata": {
        "id": "Yt_5Rf0MXIY4"
      }
    },
    {
      "cell_type": "markdown",
      "source": [
        "Ques 1:- What are data structures, and why are they important?\n",
        "\n",
        "Ans 1:- Data structures are ways of organizing and storing data in memory so it can be accessed and modified efficiently.\n",
        "\n",
        "They are important because:\n",
        "1. They improve performance (fast searching, inserting, updating).\n",
        "\n",
        "2. They allow efficient use of memory."
      ],
      "metadata": {
        "id": "ChDJPm2SXS1s"
      }
    },
    {
      "cell_type": "markdown",
      "source": [
        "Ques 2:-  Explain the difference between mutable and immutable data types with examples?\n",
        "\n",
        "Ans 2:-\n",
        "\n",
        "1. Mutable Data can be Changed or Updated after creation.\n",
        "\n",
        "\n",
        "```\n",
        "lst = [1, 2, 3]\n",
        "lst[0] = 10\n",
        "print(lst)\n",
        "    result :- [10, 2, 3]\n",
        "\n",
        "```\n",
        "2. Immutable Data cannot be Changed or Updated after creation.\n",
        "\n",
        "\n",
        "```\n",
        "tup = (1, 2, 3)\n",
        "# tup[0] = 10\n",
        "    result:- It will throw an error\n",
        "\n",
        "```\n",
        "\n",
        "\n"
      ],
      "metadata": {
        "id": "Pq4Iwjo5ntIn"
      }
    },
    {
      "cell_type": "markdown",
      "source": [
        "Ques 3:- What are the main differences between lists and tuples in Python?\n",
        "\n",
        "Ans 3:-  Difference between List and Tuple:\n",
        "\n",
        "1. List: List is Mutable and It is written with [ ].\n",
        "\n",
        "2. Tuple: Tuple is Immutable and It is written with ( )."
      ],
      "metadata": {
        "id": "NsIck4LtowjJ"
      }
    },
    {
      "cell_type": "markdown",
      "source": [
        "Ques 4:- Describe how dictionaries store data.\n",
        "\n",
        "Ans 4:- Dictionaries store data in key : value pairs.\n",
        "\n",
        "```\n",
        "student = {\"name\":\"Aslam\", \"age\":25, \"Class\":\"10th\"}\n",
        "```\n"
      ],
      "metadata": {
        "id": "H5VcQ5PJpg3r"
      }
    },
    {
      "cell_type": "markdown",
      "source": [
        "Ques 5:- Why might you use a set instead of a list in Python?\n",
        "\n",
        "Ans 5:- We use a `SET` instead of a `LIST` in Pyhton because `SET` remove duplicates automatically and faster result deriven as compared to the `LIST`."
      ],
      "metadata": {
        "id": "FjxuyZwlqIs7"
      }
    },
    {
      "cell_type": "markdown",
      "source": [
        "Ques 6:- What is a string in Python, and how is it different from a list?\n",
        "\n",
        "Ans 6:- `String` is a sequence of textual characters → \"Hello\" while `List` is a sequence of items → [1, \"a\", 3.5]. `String` is Immutable while `List` is Mutable.\n"
      ],
      "metadata": {
        "id": "ZgT6U982qzNZ"
      }
    },
    {
      "cell_type": "markdown",
      "source": [
        "Ques 7:- How do tuples ensure data integrity in Python?\n",
        "\n",
        "Ans 7:- `Tuples` cannot be changed it is immutable, so that data stays safe and fixed."
      ],
      "metadata": {
        "id": "M6a8-2l3rj-X"
      }
    },
    {
      "cell_type": "markdown",
      "source": [
        "Ques 8:- What is a hash table, and how does it relate to dictionaries in Python?\n",
        "\n",
        "Ans 8:- A hash table is a system that maps keys to values using hashing.\n",
        "Dictionaries in Python are built using hash tables."
      ],
      "metadata": {
        "id": "Fj4bstDlsXp4"
      }
    },
    {
      "cell_type": "markdown",
      "source": [
        "Ques 9:- Can lists contain different data types in Python?\n",
        "\n",
        "Ans 9:- Yes, `List` can contain different data types in Python.\n",
        "\n",
        "1. For Ex\n",
        "\n",
        "\n",
        "```\n",
        "List = [1, \"hello\", 3.14, True, \"2x+y\"]\n",
        "\n",
        "```\n",
        "As you can see that List is containing `int, str, float, bool, complex` types of data.\n"
      ],
      "metadata": {
        "id": "G_m9emrusjMG"
      }
    },
    {
      "cell_type": "markdown",
      "source": [
        "Ques 10:- Explain why strings are immutable in Python?\n",
        "\n",
        "Ans 10:- `Strings` are immutable in Pyhton because it saves memory, prevents unwanted changes and allows strings to be used as dictionary keys."
      ],
      "metadata": {
        "id": "CTypvnDVtH7N"
      }
    },
    {
      "cell_type": "markdown",
      "source": [
        "Ques 11:- What advantages do dictionaries offer over lists for certain tasks?\n",
        "\n",
        "Ans 11:- Dictionaries do faster lookups by keys and Data is stored with labels (keys) and not just numbers."
      ],
      "metadata": {
        "id": "ePaBgTSWtt_3"
      }
    },
    {
      "cell_type": "markdown",
      "source": [
        "Ques 12:- Describe a scenario where using a tuple would be preferable over a list?\n",
        "\n",
        "Ans 12:- `Tuples` are faster and keep data safe (immutable), so they are better than `Lists` when you want read-only, fixed data."
      ],
      "metadata": {
        "id": "BNWpp63zuGn8"
      }
    },
    {
      "cell_type": "markdown",
      "source": [
        "Ques 13:-  How do sets handle duplicate values in Python?\n",
        "\n",
        "Ans 13:- `SETS` automatically removes duplicate values.\n",
        "If you add the same item more than once, it will only keep one copy.\n",
        "\n",
        "\n",
        "```\n",
        "nums = {1, 2, 2, 3, 3, 4}\n",
        "print(nums)   \n",
        "    result:- 1, 2, 3, 4\n",
        "\n",
        "```\n",
        "\n"
      ],
      "metadata": {
        "id": "_m9SwgVmuvod"
      }
    },
    {
      "cell_type": "markdown",
      "source": [
        "Ques 14:- How does the `“in”` keyword work differently for lists and dictionaries?\n",
        "\n",
        "Ans 14:-\n",
        "\n",
        "```\n",
        "numbers = [1, 2, 3]\n",
        "print(2 in numbers)   \n",
        "    result:- True (because 2 is in the list)\n",
        "\n",
        "```\n",
        "\n"
      ],
      "metadata": {
        "id": "s8tCP4_bvQwl"
      }
    },
    {
      "cell_type": "markdown",
      "source": [
        "Ques 15:- Can you modify the elements of a tuple? Explain why or why not?\n",
        "\n",
        "Ans 15:- No! Once a `tuple` is created, its values cannot be changed, added, or removed. This makes tuples safe for storing fixed data that should never change."
      ],
      "metadata": {
        "id": "DNAMYqGkvmhJ"
      }
    },
    {
      "cell_type": "markdown",
      "source": [
        "Ques 16:- What is a nested dictionary, and give an example of its use case?\n",
        "\n",
        "Ans 16:- A nested dictionary is a dictionary inside another dictionary and It helps when we want to store data in a structured way.\n",
        "\n",
        "\n",
        "```\n",
        "company = {\n",
        "    \"HR\": {\n",
        "        \"E101\": {\"name\": \"Amit\", \"salary\": 30000},\n",
        "        \"E102\": {\"name\": \"Rina\", \"salary\": 35000}\n",
        "    },\n",
        "    \"IT\": {\n",
        "        \"E201\": {\"name\": \"Aslam\", \"salary\": 50000},\n",
        "        \"E202\": {\"name\": \"Ravi\", \"salary\": 45000}\n",
        "    }\n",
        "}\n",
        "\n",
        "# Access Ravi's salary\n",
        "print(company[\"IT\"][\"E202\"][\"salary\"])   \n",
        "\n",
        "        'result:- 45000'\n",
        "```\n",
        "\n",
        "\n"
      ],
      "metadata": {
        "id": "iVHUl39kv0Xs"
      }
    },
    {
      "cell_type": "markdown",
      "source": [
        "Ques 17:- Describe the time complexity of accessing elements in a dictionary.\n",
        "\n",
        "Ans 17:- A dictionary is like a real dictionary where we can search with the word (key) and directly get the meaning (value).No matter how big the dictionary is, finding a value by key takes almost the same time."
      ],
      "metadata": {
        "id": "Hqi9YZnSwPYh"
      }
    },
    {
      "cell_type": "markdown",
      "source": [
        "Ques 18:- In what situations are lists preferred over dictionaries?\n",
        "\n",
        "Ans 18:- `List` is preffeed when we want to work with only values not key, when duplicate doesn't matters and want to work with sequences."
      ],
      "metadata": {
        "id": "9RMLG5mWw04A"
      }
    },
    {
      "cell_type": "markdown",
      "source": [
        "Ques 19:- Why are dictionaries considered unordered, and how does that affect data retrieval?\n",
        "\n",
        "Ans 19:- A dictionary stores data using keys, not positions (like index in a list) that's why we say it is unordered → you can't rely on the order of items like you do in a list. Instead, you always retrieve data using its key.\n",
        "\n",
        "\n",
        "```\n",
        "student = {\"name\": \"Aslam\", \"age\": 25, \"city\": \"Chandigarh\"}\n",
        "print(student[\"city\"])  \n",
        "        #Results it always uses key, not position\n",
        "\n",
        "```\n",
        "\n"
      ],
      "metadata": {
        "id": "uvus5lHSxiMu"
      }
    },
    {
      "cell_type": "markdown",
      "source": [
        "Ques 20:-  Explain the difference between a list and a dictionary in terms of data retrieval.\n",
        "\n",
        "Anw 20:- `List` is index-based retrieval while `Dictionary` is key-based retrieval\n",
        "\n",
        "1. `List` gives result by their position (index).\n",
        "\n",
        "\n",
        "```\n",
        "fruits = [\"Apple\", \"Banana\", \"Pineapple\"]\n",
        "print(fruits[0])   \n",
        "      Result:- Apple\n",
        "\n",
        "```\n",
        "2. `Dictionary` gives result by their key (name/label).\n",
        "\n",
        "\n",
        "```\n",
        "student = {\"name\": \"Aslam\", \"age\": 25}\n",
        "print(student[\"name\"])   \n",
        "      Result:- Aslam\n",
        "\n",
        "```\n",
        "\n",
        "\n",
        "\n"
      ],
      "metadata": {
        "id": "Pfj4X2xvyKqU"
      }
    },
    {
      "cell_type": "markdown",
      "source": [
        "#Practical Questions:-"
      ],
      "metadata": {
        "id": "EXuG42WyzkbI"
      }
    },
    {
      "cell_type": "markdown",
      "source": [
        "Ques 1:- Write a code to create a string with your name and print it.\n"
      ],
      "metadata": {
        "id": "9iw7itL5zsLS"
      }
    },
    {
      "cell_type": "code",
      "source": [
        "#Ans 1:-\n",
        "name = \"Aslam Khan\"\n",
        "print(name)"
      ],
      "metadata": {
        "colab": {
          "base_uri": "https://localhost:8080/"
        },
        "id": "Xmr5M6y1K3Od",
        "outputId": "a4c7c8a5-9012-467f-b767-ac94711365bf"
      },
      "execution_count": 1,
      "outputs": [
        {
          "output_type": "stream",
          "name": "stdout",
          "text": [
            "Aslam Khan\n"
          ]
        }
      ]
    },
    {
      "cell_type": "markdown",
      "source": [
        "Ques 2:- Write a code to find the length of the string \"Hello World\"."
      ],
      "metadata": {
        "id": "Hcg9oCQmLA0V"
      }
    },
    {
      "cell_type": "code",
      "source": [
        "#Ans 2:-\n",
        "text = \"Hello World\"\n",
        "print(len(text))"
      ],
      "metadata": {
        "colab": {
          "base_uri": "https://localhost:8080/"
        },
        "id": "4k4_U5AXLFft",
        "outputId": "c4847546-972a-42af-b3a9-4ed6ac632ac1"
      },
      "execution_count": 7,
      "outputs": [
        {
          "output_type": "stream",
          "name": "stdout",
          "text": [
            "11\n"
          ]
        }
      ]
    },
    {
      "cell_type": "markdown",
      "source": [
        "Ques 3:-  Write a code to slice the first 3 characters from the string \"Python Programming\"."
      ],
      "metadata": {
        "id": "oWfrD8UpLQOR"
      }
    },
    {
      "cell_type": "code",
      "source": [
        "#Ans 3:-\n",
        "string = \"Python Programming\"\n",
        "print(string[:3])"
      ],
      "metadata": {
        "colab": {
          "base_uri": "https://localhost:8080/"
        },
        "id": "qgYQRMc8LU72",
        "outputId": "c25d3e88-d9de-4cd2-8989-ab0180c03b7d"
      },
      "execution_count": 9,
      "outputs": [
        {
          "output_type": "stream",
          "name": "stdout",
          "text": [
            "Pyt\n"
          ]
        }
      ]
    },
    {
      "cell_type": "markdown",
      "source": [
        "Ques 4:- Write a code to convert the string \"hello\" to uppercase."
      ],
      "metadata": {
        "id": "nNjJ1wl8Lwzb"
      }
    },
    {
      "cell_type": "code",
      "source": [
        "#Ans 4:-\n",
        "text = \"hello\"\n",
        "print(text.upper())"
      ],
      "metadata": {
        "colab": {
          "base_uri": "https://localhost:8080/"
        },
        "id": "zHPogYLTL1v6",
        "outputId": "8c190d5d-ac86-4471-8e32-167e9a5da01b"
      },
      "execution_count": 10,
      "outputs": [
        {
          "output_type": "stream",
          "name": "stdout",
          "text": [
            "HELLO\n"
          ]
        }
      ]
    },
    {
      "cell_type": "markdown",
      "source": [
        "Ques 5:- Write a code to replace the word \"apple\" with \"orange\" in the string \"I like apple\"."
      ],
      "metadata": {
        "id": "U4hIePOoMD63"
      }
    },
    {
      "cell_type": "code",
      "source": [
        "#Ans 5:-\n",
        "line = \"I like apple\"\n",
        "print(line.replace(\"apple\", \"orange\"))\n"
      ],
      "metadata": {
        "colab": {
          "base_uri": "https://localhost:8080/"
        },
        "id": "H-EsCm5JMJM4",
        "outputId": "cd6e3334-03c0-4455-8e2f-5fa8fe7ae5c9"
      },
      "execution_count": 11,
      "outputs": [
        {
          "output_type": "stream",
          "name": "stdout",
          "text": [
            "I like orange\n"
          ]
        }
      ]
    },
    {
      "cell_type": "markdown",
      "source": [
        "Ques 6:- Write a code to create a list with numbers 1 to 5 and print it.\n"
      ],
      "metadata": {
        "id": "ZPzSVdzXMRG6"
      }
    },
    {
      "cell_type": "code",
      "source": [
        "#Ans 6:-\n",
        "list = [1, 2, 3, 4, 5]\n",
        "print(list)\n",
        "print(type(list))"
      ],
      "metadata": {
        "colab": {
          "base_uri": "https://localhost:8080/"
        },
        "id": "-vU7mBn8MWBS",
        "outputId": "06ebeedf-87b8-41ea-ab8b-64983220b45c"
      },
      "execution_count": 13,
      "outputs": [
        {
          "output_type": "stream",
          "name": "stdout",
          "text": [
            "[1, 2, 3, 4, 5]\n",
            "<class 'list'>\n"
          ]
        }
      ]
    },
    {
      "cell_type": "markdown",
      "source": [
        "Ques 7:- Write a code to append the number 10 to the list [1, 2, 3, 4]."
      ],
      "metadata": {
        "id": "hLDraasDMnNI"
      }
    },
    {
      "cell_type": "code",
      "source": [
        "#Ans 7:-\n",
        "list = [1, 2, 3, 4]\n",
        "list.append(10)\n",
        "print(list)"
      ],
      "metadata": {
        "colab": {
          "base_uri": "https://localhost:8080/"
        },
        "id": "fLuiR8LxMsjI",
        "outputId": "b2bf2c6d-c705-4475-9719-73bf2e9c9c4c"
      },
      "execution_count": 14,
      "outputs": [
        {
          "output_type": "stream",
          "name": "stdout",
          "text": [
            "[1, 2, 3, 4, 10]\n"
          ]
        }
      ]
    },
    {
      "cell_type": "markdown",
      "source": [
        "Ques 8:- Write a code to remove the number 3 from the list [1, 2, 3, 4, 5]."
      ],
      "metadata": {
        "id": "TAhPkokCMxKr"
      }
    },
    {
      "cell_type": "code",
      "source": [
        "#Ans 8:-\n",
        "list = [1, 2, 3, 4, 5]\n",
        "list.remove(3)\n",
        "print(list)"
      ],
      "metadata": {
        "colab": {
          "base_uri": "https://localhost:8080/"
        },
        "id": "MRBrur8jM16l",
        "outputId": "5688ce46-d07f-4f49-de4a-cfe9aefa05ef"
      },
      "execution_count": 15,
      "outputs": [
        {
          "output_type": "stream",
          "name": "stdout",
          "text": [
            "[1, 2, 4, 5]\n"
          ]
        }
      ]
    },
    {
      "cell_type": "markdown",
      "source": [
        "Ques 9:- Write a code to access the second element in the list ['a', 'b', 'c', 'd']."
      ],
      "metadata": {
        "id": "4g6ti0M5M5fq"
      }
    },
    {
      "cell_type": "code",
      "source": [
        "#Ans 9:-\n",
        "list = ['a', 'b', 'c', 'd']\n",
        "print(list[1])"
      ],
      "metadata": {
        "colab": {
          "base_uri": "https://localhost:8080/"
        },
        "id": "gmz5xlBRM9LX",
        "outputId": "917a728e-bf59-49da-9c73-c962aa871218"
      },
      "execution_count": 16,
      "outputs": [
        {
          "output_type": "stream",
          "name": "stdout",
          "text": [
            "b\n"
          ]
        }
      ]
    },
    {
      "cell_type": "markdown",
      "source": [
        "Ques 10:- Write a code to reverse the list [10, 20, 30, 40, 50]."
      ],
      "metadata": {
        "id": "VeSBYrx2NCcM"
      }
    },
    {
      "cell_type": "code",
      "source": [
        "#Ans 10:-\n",
        "list = [10, 20, 30, 40, 50]\n",
        "print(list[::-1])"
      ],
      "metadata": {
        "colab": {
          "base_uri": "https://localhost:8080/"
        },
        "id": "ychBZcxING_d",
        "outputId": "b7622312-ccac-4eb9-cd95-5f2fb612be3b"
      },
      "execution_count": 17,
      "outputs": [
        {
          "output_type": "stream",
          "name": "stdout",
          "text": [
            "[50, 40, 30, 20, 10]\n"
          ]
        }
      ]
    },
    {
      "cell_type": "markdown",
      "source": [
        "Ques 11:-  Write a code to create a tuple with the elements 100, 200, 300 and print it."
      ],
      "metadata": {
        "id": "BTOCV2uSNUJf"
      }
    },
    {
      "cell_type": "code",
      "source": [
        "#Ans 11:-\n",
        "tuple = (100, 200, 300)\n",
        "print(tuple)\n",
        "print(type(tuple))"
      ],
      "metadata": {
        "colab": {
          "base_uri": "https://localhost:8080/"
        },
        "id": "-7VymK3HNZgU",
        "outputId": "5b36f707-117d-4770-c516-9475c23ffdb0"
      },
      "execution_count": 18,
      "outputs": [
        {
          "output_type": "stream",
          "name": "stdout",
          "text": [
            "(100, 200, 300)\n",
            "<class 'tuple'>\n"
          ]
        }
      ]
    },
    {
      "cell_type": "markdown",
      "source": [
        "Ques 12:- Write a code to access the second-to-last element of the tuple ('red', 'green', 'blue', 'yellow')."
      ],
      "metadata": {
        "id": "py8m2qYCNfkm"
      }
    },
    {
      "cell_type": "code",
      "source": [
        "#Ans 12:-\n",
        "tuple = ('red', 'green', 'blue', 'yellow')\n",
        "second_last = tuple[-2]\n",
        "print(second_last)\n"
      ],
      "metadata": {
        "colab": {
          "base_uri": "https://localhost:8080/"
        },
        "id": "PmuFKbEKNpxh",
        "outputId": "46875894-2b4e-4b31-964e-7009cacaf7ea"
      },
      "execution_count": 20,
      "outputs": [
        {
          "output_type": "stream",
          "name": "stdout",
          "text": [
            "blue\n"
          ]
        }
      ]
    },
    {
      "cell_type": "markdown",
      "source": [
        "Ques 13:- Write a code to find the minimum number in the tuple (10, 20, 5, 15)."
      ],
      "metadata": {
        "id": "kBrXcN_4N6wG"
      }
    },
    {
      "cell_type": "code",
      "source": [
        "#Ans 13:-\n",
        "tuple = (10, 20, 5, 15)\n",
        "print(min(tuple))"
      ],
      "metadata": {
        "colab": {
          "base_uri": "https://localhost:8080/"
        },
        "id": "zMZ1tsgnN-dX",
        "outputId": "894bbbc4-928b-4583-ac0d-09836ffa5505"
      },
      "execution_count": 21,
      "outputs": [
        {
          "output_type": "stream",
          "name": "stdout",
          "text": [
            "5\n"
          ]
        }
      ]
    },
    {
      "cell_type": "markdown",
      "source": [
        "Ques 14:- Write a code to find the index of the element \"cat\" in the tuple ('dog', 'cat', 'rabbit')."
      ],
      "metadata": {
        "id": "MfgU-8a7OCis"
      }
    },
    {
      "cell_type": "code",
      "source": [
        "#Ans 14:-\n",
        "tuple = ('dog', 'cat', 'rabbit')\n",
        "print(tuple.index(\"cat\"))"
      ],
      "metadata": {
        "colab": {
          "base_uri": "https://localhost:8080/"
        },
        "id": "FjmD3uB2OGa_",
        "outputId": "7467445a-5d77-4e0d-fefa-76e01442743e"
      },
      "execution_count": 22,
      "outputs": [
        {
          "output_type": "stream",
          "name": "stdout",
          "text": [
            "1\n"
          ]
        }
      ]
    },
    {
      "cell_type": "markdown",
      "source": [
        "Ques 15:-  Write a code to create a tuple containing three different fruits and check if \"kiwi\" is in it."
      ],
      "metadata": {
        "id": "aqXY-KifOK4-"
      }
    },
    {
      "cell_type": "code",
      "source": [
        "#Ans 15:-\n",
        "fruits = (\"apple\", \"banana\", \"orange\")\n",
        "if \"kiwi\" in fruits:\n",
        "    print(\"Kiwi is available in the tuple\")\n",
        "else:\n",
        "    print(\"Kiwi is not available in the tuple\")\n"
      ],
      "metadata": {
        "colab": {
          "base_uri": "https://localhost:8080/"
        },
        "id": "6QgedCrGOPLU",
        "outputId": "891cfc46-c468-48e4-f922-e0019848d284"
      },
      "execution_count": 25,
      "outputs": [
        {
          "output_type": "stream",
          "name": "stdout",
          "text": [
            "Kiwi is not available in the tuple\n"
          ]
        }
      ]
    },
    {
      "cell_type": "markdown",
      "source": [
        "Ques 16:- Write a code to create a set with the elements 'a', 'b', 'c' and print it."
      ],
      "metadata": {
        "id": "VnjrzDKdO0xh"
      }
    },
    {
      "cell_type": "code",
      "source": [
        "#Ans 16:-\n",
        "my_set = {'a', 'b', 'c'}\n",
        "print(my_set)\n"
      ],
      "metadata": {
        "colab": {
          "base_uri": "https://localhost:8080/"
        },
        "id": "YSy4x9FYO2s_",
        "outputId": "865be0b3-87f9-4330-de59-e31319d6e3e0"
      },
      "execution_count": 31,
      "outputs": [
        {
          "output_type": "stream",
          "name": "stdout",
          "text": [
            "{'b', 'a', 'c'}\n"
          ]
        }
      ]
    },
    {
      "cell_type": "markdown",
      "source": [
        "Ques 17:- Write a code to clear all elements from the set {1, 2, 3, 4, 5}."
      ],
      "metadata": {
        "id": "2II60mYQPQdu"
      }
    },
    {
      "cell_type": "code",
      "source": [
        "#Ans 17:-\n",
        "my_set = {1, 2, 3, 4, 5}\n",
        "my_set.clear()\n",
        "print(my_set)"
      ],
      "metadata": {
        "colab": {
          "base_uri": "https://localhost:8080/"
        },
        "id": "xSPx__NDPVRb",
        "outputId": "4ff1a6fa-81a3-446c-8c3b-cdc011d8ff86"
      },
      "execution_count": 32,
      "outputs": [
        {
          "output_type": "stream",
          "name": "stdout",
          "text": [
            "set()\n"
          ]
        }
      ]
    },
    {
      "cell_type": "markdown",
      "source": [
        "Ques 18:- Write a code to remove the element 4 from the set {1, 2, 3, 4}."
      ],
      "metadata": {
        "id": "FE8R4utRPdvT"
      }
    },
    {
      "cell_type": "code",
      "source": [
        "#Ans 18:-\n",
        "my_set = {1, 2, 3, 4}\n",
        "my_set.remove(4)\n",
        "print(my_set)"
      ],
      "metadata": {
        "colab": {
          "base_uri": "https://localhost:8080/"
        },
        "id": "PCJTDOoDPhvG",
        "outputId": "82899fd6-43eb-4da7-f615-53cda1255b40"
      },
      "execution_count": 33,
      "outputs": [
        {
          "output_type": "stream",
          "name": "stdout",
          "text": [
            "{1, 2, 3}\n"
          ]
        }
      ]
    },
    {
      "cell_type": "markdown",
      "source": [
        "Ques 19:- Write a code to find the union of two sets {1, 2, 3} and {3, 4, 5}."
      ],
      "metadata": {
        "id": "UlwXfBXDPl30"
      }
    },
    {
      "cell_type": "code",
      "source": [
        "#Ans 19:-\n",
        "my_set1 = {1, 2, 3}\n",
        "my_set2 = {3, 4, 5}\n",
        "union_set = my_set1.union(my_set2)      #Union Method\n",
        "print(union_set)\n",
        "\n",
        "my_set3 = {1, 2, 3}\n",
        "my_set4 = {3, 4, 5}\n",
        "union_set2 = my_set3 | my_set4          # '|' Method\n",
        "print(union_set2)"
      ],
      "metadata": {
        "colab": {
          "base_uri": "https://localhost:8080/"
        },
        "id": "NkgXY2rCPqSi",
        "outputId": "1c650c81-113c-4de9-ca44-90a0284bcd11"
      },
      "execution_count": 35,
      "outputs": [
        {
          "output_type": "stream",
          "name": "stdout",
          "text": [
            "{1, 2, 3, 4, 5}\n",
            "{1, 2, 3, 4, 5}\n"
          ]
        }
      ]
    },
    {
      "cell_type": "markdown",
      "source": [
        "Ques 20:- Write a code to find the intersection of two sets {1, 2, 3} and {2, 3, 4}."
      ],
      "metadata": {
        "id": "QgDHkZ7FQJOV"
      }
    },
    {
      "cell_type": "code",
      "source": [
        "#Ans 20:-\n",
        "my_set1 = {1, 2, 3}\n",
        "my_set2 = {2, 3, 4}\n",
        "intersection_set = my_set1.intersection(my_set2)      #Intersection Method\n",
        "print(intersection_set)\n",
        "\n",
        "my_set3 = {1, 2, 3}\n",
        "my_set4 = {2, 3, 4}\n",
        "intersection_set2 = my_set3 & my_set4                 #'&' Method\n",
        "print(intersection_set)"
      ],
      "metadata": {
        "colab": {
          "base_uri": "https://localhost:8080/"
        },
        "id": "F8VAHPGCQOEg",
        "outputId": "703d603d-5c79-4dcf-9c61-ecbafcda9c82"
      },
      "execution_count": 37,
      "outputs": [
        {
          "output_type": "stream",
          "name": "stdout",
          "text": [
            "{2, 3}\n",
            "{2, 3}\n"
          ]
        }
      ]
    },
    {
      "cell_type": "markdown",
      "source": [
        "Ques 21:- Write a code to create a dictionary with the keys \"name\", \"age\", and \"city\", and print it."
      ],
      "metadata": {
        "id": "-4ZHr-oDQvie"
      }
    },
    {
      "cell_type": "code",
      "source": [
        "#Ans 21:-\n",
        "my_dict = {\"name\": \"Aslam\", \"age\": 25, \"city\": \"Chandigarh\"}\n",
        "print(my_dict)\n",
        "print(type(my_dict))"
      ],
      "metadata": {
        "colab": {
          "base_uri": "https://localhost:8080/"
        },
        "id": "D-Yhgh4sQzK0",
        "outputId": "88278674-60d1-45b7-835d-e87463d54f02"
      },
      "execution_count": 39,
      "outputs": [
        {
          "output_type": "stream",
          "name": "stdout",
          "text": [
            "{'name': 'Aslam', 'age': 25, 'city': 'Chandigarh'}\n",
            "<class 'dict'>\n"
          ]
        }
      ]
    },
    {
      "cell_type": "markdown",
      "source": [
        "Ques 22:-  Write a code to add a new key-value pair \"country\": \"USA\" to the dictionary {'name': 'John', 'age': 25}."
      ],
      "metadata": {
        "id": "HdjLXLTCQ7WH"
      }
    },
    {
      "cell_type": "code",
      "source": [
        "#Ans 22:-\n",
        "my_dict = {'name': 'John', 'age': 25}\n",
        "my_dict['country'] = 'USA'\n",
        "print(my_dict)\n",
        "print(type(my_dict))"
      ],
      "metadata": {
        "colab": {
          "base_uri": "https://localhost:8080/"
        },
        "id": "iaNKGwaFRA5d",
        "outputId": "4589172f-5326-4ce1-efa8-a943640f4c99"
      },
      "execution_count": 41,
      "outputs": [
        {
          "output_type": "stream",
          "name": "stdout",
          "text": [
            "{'name': 'John', 'age': 25, 'country': 'USA'}\n",
            "<class 'dict'>\n"
          ]
        }
      ]
    },
    {
      "cell_type": "markdown",
      "source": [
        "Ques 23:- Write a code to access the value associated with the key \"name\" in the dictionary {'name': 'Alice', 'age': 30}."
      ],
      "metadata": {
        "id": "SbJVJBtMRNYF"
      }
    },
    {
      "cell_type": "code",
      "source": [
        "#Ans 23:-\n",
        "my_dict = {'name': 'Alice', 'age': 30}\n",
        "print(my_dict['name'])"
      ],
      "metadata": {
        "colab": {
          "base_uri": "https://localhost:8080/"
        },
        "id": "DKrmF_WBRSCN",
        "outputId": "c42c2d59-9d55-4dd9-a297-a88044d9f63c"
      },
      "execution_count": 43,
      "outputs": [
        {
          "output_type": "stream",
          "name": "stdout",
          "text": [
            "Alice\n"
          ]
        }
      ]
    },
    {
      "cell_type": "markdown",
      "source": [
        "Ques 24:- Write a code to remove the key \"age\" from the dictionary {'name': 'Bob', 'age': 22, 'city': 'New York'}."
      ],
      "metadata": {
        "id": "7bNQUjLnRbyb"
      }
    },
    {
      "cell_type": "code",
      "source": [
        "#Ans 24:-\n",
        "my_dict = {'name': 'Bob', 'age': 22, 'city': 'New York'}\n",
        "del my_dict['age']\n",
        "print(my_dict)\n",
        "print(type(my_dict))"
      ],
      "metadata": {
        "colab": {
          "base_uri": "https://localhost:8080/"
        },
        "id": "68503BM6RgVj",
        "outputId": "83aa65ba-e5b5-4786-b6bf-9d985949ebf1"
      },
      "execution_count": 45,
      "outputs": [
        {
          "output_type": "stream",
          "name": "stdout",
          "text": [
            "{'name': 'Bob', 'city': 'New York'}\n",
            "<class 'dict'>\n"
          ]
        }
      ]
    },
    {
      "cell_type": "markdown",
      "source": [
        "Ques 25:- Write a code to check if the key \"city\" exists in the dictionary {'name': 'Alice', 'city': 'Paris'}.\n"
      ],
      "metadata": {
        "id": "k4UkhRMMRnR0"
      }
    },
    {
      "cell_type": "code",
      "source": [
        "#Ans 25:-\n",
        "my_dict = {'name': 'Alice', 'city': 'Paris'}\n",
        "if 'city' in my_dict:\n",
        "    print(\"The key 'city' exists in the dictionary.\")\n",
        "else:\n",
        "    print(\"The key 'city' does not exist in the dictionary.\")"
      ],
      "metadata": {
        "colab": {
          "base_uri": "https://localhost:8080/"
        },
        "id": "vVJKetQARtEo",
        "outputId": "d25a4c98-d5ae-4625-c538-d8ca913c3f0c"
      },
      "execution_count": 46,
      "outputs": [
        {
          "output_type": "stream",
          "name": "stdout",
          "text": [
            "The key 'city' exists in the dictionary.\n"
          ]
        }
      ]
    },
    {
      "cell_type": "markdown",
      "source": [
        "Ques 26:- Write a code to create a list, a tuple, and a dictionary, and print them all."
      ],
      "metadata": {
        "id": "TiayD36PRzEy"
      }
    },
    {
      "cell_type": "code",
      "source": [
        "#Ans 26:-\n",
        "my_list = [1, 2, 3, 4, 5]\n",
        "my_tuple = (10, 20, 30, 40, 50)\n",
        "my_dict = {'name': 'Aslam', 'age': 25, 'city': 'Chandigarh'}\n",
        "\n",
        "print(\"List:\", my_list)\n",
        "print(type(my_list))\n",
        "print(\"Tuple:\", my_tuple)\n",
        "print(type(my_tuple))\n",
        "print(\"Dictionary:\", my_dict)\n",
        "print(type(my_dict))"
      ],
      "metadata": {
        "colab": {
          "base_uri": "https://localhost:8080/"
        },
        "id": "8sU9lsjOR2_Q",
        "outputId": "bfddf207-0379-4f8a-9fc2-3b5fcd8aea57"
      },
      "execution_count": 48,
      "outputs": [
        {
          "output_type": "stream",
          "name": "stdout",
          "text": [
            "List: [1, 2, 3, 4, 5]\n",
            "<class 'list'>\n",
            "Tuple: (10, 20, 30, 40, 50)\n",
            "<class 'tuple'>\n",
            "Dictionary: {'name': 'Aslam', 'age': 25, 'city': 'Chandigarh'}\n",
            "<class 'dict'>\n"
          ]
        }
      ]
    },
    {
      "cell_type": "markdown",
      "source": [
        "Ques 27:- Write a code to create a list of 5 random numbers between 1 and 100, sort it in ascending order, and print the\n",
        "result.(replaced)"
      ],
      "metadata": {
        "id": "rbVy55eMSBvU"
      }
    },
    {
      "cell_type": "code",
      "source": [
        "#Ans 27:-\n",
        "import random\n",
        "random_numbers = []\n",
        "for i in range(5):\n",
        "    num = random.randint(1, 100)\n",
        "    random_numbers.append(num)\n",
        "random_numbers.sort()\n",
        "\n",
        "print(\"Sorted random numbers:\", random_numbers)\n"
      ],
      "metadata": {
        "colab": {
          "base_uri": "https://localhost:8080/"
        },
        "id": "rkt9AtrVSFbZ",
        "outputId": "4e27afb8-e21b-454b-d759-34eccf51527c"
      },
      "execution_count": 51,
      "outputs": [
        {
          "output_type": "stream",
          "name": "stdout",
          "text": [
            "Sorted random numbers: [24, 29, 36, 50, 70]\n"
          ]
        }
      ]
    },
    {
      "cell_type": "markdown",
      "source": [
        "Ques 28:- Write a code to create a list with strings and print the element at the third index."
      ],
      "metadata": {
        "id": "Ssyy1o8zSnQg"
      }
    },
    {
      "cell_type": "code",
      "source": [
        "#Ans 28:-\n",
        "my_list = [\"apple\", \"banana\", \"orange\", \"grape\", \"kiwi\"]\n",
        "print(my_list[2])"
      ],
      "metadata": {
        "colab": {
          "base_uri": "https://localhost:8080/"
        },
        "id": "a4qV-wJrSry8",
        "outputId": "a357634d-9acb-4d18-b7e1-4ddf3828f62f"
      },
      "execution_count": 52,
      "outputs": [
        {
          "output_type": "stream",
          "name": "stdout",
          "text": [
            "orange\n"
          ]
        }
      ]
    },
    {
      "cell_type": "markdown",
      "source": [
        "Ques 29:- Write a code to combine two dictionaries into one and print the result."
      ],
      "metadata": {
        "id": "IwTlXIUjSx9c"
      }
    },
    {
      "cell_type": "code",
      "source": [
        "#Ans 29:-\n",
        "dict1 = {'Name': 'Aslam', 'Age': 25}\n",
        "dict2 = {'City': 'Chandigarh', 'PIN Code': 160030}\n",
        "combined_dict = {**dict1, **dict2}                            # '**' Method\n",
        "print(combined_dict)\n",
        "\n",
        "dict3 = {'Name': 'Aslam', 'Age': 25}\n",
        "dict4 = {'City': 'Chandigarh', 'PIN Code': 160030}\n",
        "combined_dict2 = dict3 | dict4                                 # '|' Method\n",
        "print(combined_dict2)"
      ],
      "metadata": {
        "colab": {
          "base_uri": "https://localhost:8080/"
        },
        "id": "DGPGt7ZzS3MY",
        "outputId": "814261b3-cdda-44bf-f107-6901d5bd9f87"
      },
      "execution_count": 60,
      "outputs": [
        {
          "output_type": "stream",
          "name": "stdout",
          "text": [
            "{'Name': 'Aslam', 'Age': 25, 'City': 'Chandigarh', 'PIN Code': 160030}\n",
            "{'Name': 'Aslam', 'Age': 25, 'City': 'Chandigarh', 'PIN Code': 160030}\n"
          ]
        }
      ]
    },
    {
      "cell_type": "markdown",
      "source": [
        "Ques 30:- Write a code to convert a list of strings into a set."
      ],
      "metadata": {
        "id": "phoRbbFPUGho"
      }
    },
    {
      "cell_type": "code",
      "source": [
        "#Ans 30:-\n",
        "fruits_list = [\"apple\", \"banana\", \"apple\", \"orange\", \"banana\"]\n",
        "print(fruits_list)\n",
        "print(type(fruits_list))\n",
        "\n",
        "fruits_set = set(fruits_list)\n",
        "\n",
        "print(fruits_set)\n",
        "print(type(fruits_set))"
      ],
      "metadata": {
        "colab": {
          "base_uri": "https://localhost:8080/"
        },
        "id": "bE90UPUxULdh",
        "outputId": "1987a823-9c60-4952-e500-41c7fed8c48b"
      },
      "execution_count": 62,
      "outputs": [
        {
          "output_type": "stream",
          "name": "stdout",
          "text": [
            "['apple', 'banana', 'apple', 'orange', 'banana']\n",
            "<class 'list'>\n",
            "{'orange', 'banana', 'apple'}\n",
            "<class 'set'>\n"
          ]
        }
      ]
    }
  ]
}