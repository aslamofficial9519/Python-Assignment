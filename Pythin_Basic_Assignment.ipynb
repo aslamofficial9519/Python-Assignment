{
  "nbformat": 4,
  "nbformat_minor": 0,
  "metadata": {
    "colab": {
      "provenance": []
    },
    "kernelspec": {
      "name": "python3",
      "display_name": "Python 3"
    },
    "language_info": {
      "name": "python"
    }
  },
  "cells": [
    {
      "cell_type": "markdown",
      "source": [
        "#Pyhton Basic Questions:-"
      ],
      "metadata": {
        "id": "KN9KE1-RjeBm"
      }
    },
    {
      "cell_type": "markdown",
      "source": [
        "Quest 1:- What is Python, and why is it popular?\n",
        "\n",
        "Ans 2:- Python is a simple, powerful, and beginner friendly programming language. It is popular because it is easy to read and It is useful in almost every field like web, AI, Data, Automation etc. Python saves the time, reduce complexity that's why It is popular in every field."
      ],
      "metadata": {
        "id": "6RBZ8wrgjflH"
      }
    },
    {
      "cell_type": "markdown",
      "source": [
        "Ques 2:- What is an interpreter in Python?\n",
        "\n",
        "Ans 2:- Interpreter runs Python code line by line and shows result immediately."
      ],
      "metadata": {
        "id": "HORwMqSVjrvB"
      }
    },
    {
      "cell_type": "markdown",
      "source": [
        "Ques 3:- What are pre-defined keywords in Python?\n",
        "\n",
        "Ans 3:- Pre-Defined keywords in Python is -\n",
        "\n",
        "```\n",
        "if, while, for, else, elif etc...\n",
        "```\n",
        "\n",
        "This pre-defined keywords cannot be use as variables."
      ],
      "metadata": {
        "id": "BONwG81hjzhh"
      }
    },
    {
      "cell_type": "markdown",
      "source": [
        "Ques 4:-  Can keywords be used as variable names ?\n",
        "\n",
        "Ans 4:- No!, Keywords cannot be used as variables name. If we do so then Python give an error in code.\n",
        "\n"
      ],
      "metadata": {
        "id": "QCWXlzuglbhq"
      }
    },
    {
      "cell_type": "markdown",
      "source": [
        "Ques 5:- What is mutability in Python ?\n",
        "\n",
        "Ans 5:- The value of that function which can be edited is called mutability\n",
        "for eg List, Dictionary, Sets."
      ],
      "metadata": {
        "id": "aflaA239mJ9K"
      }
    },
    {
      "cell_type": "markdown",
      "source": [
        "Ques 6:- Why are lists mutable, but tuples are immutable?\n",
        "\n",
        "Ans 6:- Lists are mutable because we can change, add, or remove items after creating them on the other side Tuples are immutable because once they are created, their items cannot be changed, added, or removed."
      ],
      "metadata": {
        "id": "buEIu3XRn2MD"
      }
    },
    {
      "cell_type": "markdown",
      "source": [
        "Ques 7:- What is the difference between “==” and “is” operators in Python ?\n",
        "\n",
        "Ans 7:-  1.   `==` This check two variable's value is equal or not.\n",
        "\n",
        "\n",
        "*   If equals then give True\n",
        "*   If not equals then gives False\n",
        "\n",
        "2. `is` This checks whether two variables point to the same object in memory.\n",
        "\n",
        "\n",
        "\n",
        "```\n",
        "a = [1, 2]\n",
        "b = [1, 2]\n",
        "c = a\n",
        "\n",
        "print(a is b)  # False, different objects\n",
        "print(a is c)  # True, same object\n",
        "\n",
        "```\n",
        "\n",
        "\n",
        "\n"
      ],
      "metadata": {
        "id": "M0dfyLy7oUAG"
      }
    },
    {
      "cell_type": "markdown",
      "source": [
        "Ques 8:- What are logical operators in Python?\n",
        "\n",
        "Ans 8:- Logical operators in Python are used to combine multiple conditions and return True or False.\n",
        "\n",
        "The main logical operators are:\n",
        "\n",
        "`and` → True if both conditions are True\n",
        "\n",
        "`or` → True if any one condition is True\n",
        "\n",
        "`not` → Reverses the result (True → False, False → True)\n",
        "\n",
        "\n",
        "```\n",
        "x = 5\n",
        "print(x > 2 and x < 10)  # True, both conditions True\n",
        "print(x < 2 or x < 10)   # True, one condition True\n",
        "print(not(x > 2))        # False, reverses True\n",
        "\n",
        "```\n",
        "\n",
        "\n",
        "\n",
        "\n",
        "\n",
        "\n"
      ],
      "metadata": {
        "id": "p-6A8d2zrSel"
      }
    },
    {
      "cell_type": "markdown",
      "source": [
        "Ques 9:- What is type casting in Python ?\n",
        "\n",
        "Ans 9:- Type casting is changing a value from one data type to another, like int to float or string.\n",
        "\n",
        "\n",
        "\n",
        "```\n",
        "x = 5    # This dats is in 'int' form\n",
        "y = float(x)    # convert int to float → 5.0\n",
        "z = str(x)    # convert int to string → \"5\"\n",
        "\n",
        "```\n",
        "\n"
      ],
      "metadata": {
        "id": "NREIgT0QrUt0"
      }
    },
    {
      "cell_type": "markdown",
      "source": [
        "Ques 10:- What is the difference between implicit and explicit type casting ?\n",
        "\n",
        "Ans 10:- Implicit casting is done automatically by Python, while explicit casting is done manually by the programmer using functions like `int()`, `float()`, `str()`\n",
        "\n",
        "**Implicit casting**:-\n",
        "\n",
        "```\n",
        "a = 12    # int\n",
        "b = 13.5  # float\n",
        "c = a + b  # int + float → int auto\n",
        "\n",
        "```\n",
        "**Explicit casting**:-\n",
        "\n",
        "```\n",
        "x = \"15\"       # string\n",
        "y = int(x)     # string ko manually int banaya\n",
        "print(y + 2)   # 17\n",
        "\n",
        "```\n",
        "\n",
        "\n",
        "\n",
        "\n"
      ],
      "metadata": {
        "id": "_khm2Y93uRiO"
      }
    },
    {
      "cell_type": "markdown",
      "source": [
        "Ques 11:- What is the purpose of conditional statements in Python?\n",
        "\n",
        "Ans 11:- Conditional statements are used to make decisions in Python and they run code only if a condition is True.\n",
        "\n",
        "```\n",
        "x = 12\n",
        "if x > 10:\n",
        "    print(\"Greater than 10\")\n",
        "else:\n",
        "    print(\"10 or less\")\n",
        "\n",
        "```\n",
        "\n"
      ],
      "metadata": {
        "id": "SE2os_aeu_kw"
      }
    },
    {
      "cell_type": "markdown",
      "source": [
        " Ques 12:- How does the elif statement works?\n",
        "\n",
        " Ans 12:-  `elif` is used when we need to check more than one condition after `if`. `elif` lets us to multiple conditions. If one is True, than `print` function runs and the rest are skipped.\n",
        "\n",
        "```\n",
        "marks = 75\n",
        "\n",
        "if marks >= 90:              # First condition check (90 or above)\n",
        "    print(\"Grade A\")\n",
        "elif marks >= 70:            # If first false, check this (70 or above)\n",
        "    print(\"Grade B\")\n",
        "elif marks >= 50:            # If above also false, check this (50 or above)\n",
        "    print(\"Grade C\")\n",
        "else:                        # If none is true, run this\n",
        "    print(\"Fail\")\n",
        "\n",
        "\n",
        "```\n",
        "\n"
      ],
      "metadata": {
        "id": "dee9QdNpvRmH"
      }
    },
    {
      "cell_type": "markdown",
      "source": [
        "Ques 13: - What is the difference between for and while loops?\n",
        "\n",
        "Ans 13:- 1.`For Loop` - For loop is used to repeat over a sequence of items and It runs a block of code for each item in the sequence automatically.\n",
        "\n",
        "\n",
        "```\n",
        "for i in range(1, 6):       # repeat from 1 to 5\n",
        "    print(i)                # print current number\n",
        "\n",
        "```\n",
        "\n",
        "\n",
        "2.`while Loop` - While loop is used to repeat a block of code until a condition becomes false and It keeps running as long as the given condition is True.\n",
        "\n",
        "\n",
        "```\n",
        "i = 1\n",
        "while i < 6:                # run until i is less than 6\n",
        "    print(i)                # print current number\n",
        "    i += 1                  # increment i by 1\n",
        "\n",
        "```\n"
      ],
      "metadata": {
        "id": "Qq2quqOQwTC_"
      }
    },
    {
      "cell_type": "markdown",
      "source": [
        "Ques 14:- Describe a scenario where a while loop is more suitable than a for loop.\n",
        "Ans 14:- **Scenario: Counting down from 5 to 1.**\n",
        "\n",
        "\n",
        "```\n",
        "#count = 5\n",
        "while count > 0:           # keep running until count is 0\n",
        "    print(count)           # print current number\n",
        "    count -= 1             # decrease count by 1\n",
        "\n",
        "```\n",
        "We don't need a fixed range in advance and The loop stops automatically when the condition becomes False.\n",
        "While loop repeats code until a condition is False, like counting down from 5\n"
      ],
      "metadata": {
        "id": "maXF8cBr1HXl"
      }
    },
    {
      "cell_type": "markdown",
      "source": [
        "#Practical Questions:-"
      ],
      "metadata": {
        "id": "Mb4-PpRfD2xj"
      }
    },
    {
      "cell_type": "markdown",
      "source": [
        "Ques 1:- Write a Python program to print \"Hello, World\"."
      ],
      "metadata": {
        "id": "TBoUZFyID7C6"
      }
    },
    {
      "cell_type": "code",
      "source": [
        "\n",
        "print(\"Hello, World\")\n"
      ],
      "metadata": {
        "colab": {
          "base_uri": "https://localhost:8080/"
        },
        "id": "MK6wCILLD_KT",
        "outputId": "989209ba-157c-4fba-9584-f4a3903cc492"
      },
      "execution_count": 1,
      "outputs": [
        {
          "output_type": "stream",
          "name": "stdout",
          "text": [
            "Hello, World\n"
          ]
        }
      ]
    },
    {
      "cell_type": "markdown",
      "source": [
        "Ques 2:- Write a Python program that displays your name and age."
      ],
      "metadata": {
        "id": "U6gb75qmEW5q"
      }
    },
    {
      "cell_type": "code",
      "source": [
        "name = \"Aslam\"\n",
        "age = 25\n",
        "\n",
        "print(\"Name:\", name)\n",
        "print(\"Age:\", age)\n"
      ],
      "metadata": {
        "colab": {
          "base_uri": "https://localhost:8080/"
        },
        "id": "XfCfjQhTEbTc",
        "outputId": "53c307ac-2513-4b7a-d908-5e78c00c62f5"
      },
      "execution_count": 2,
      "outputs": [
        {
          "output_type": "stream",
          "name": "stdout",
          "text": [
            "Name: Aslam\n",
            "Age: 25\n"
          ]
        }
      ]
    },
    {
      "cell_type": "markdown",
      "source": [
        "Ques 3:- Write code to print all the pre-defined keywords in Python using the keyword library.**bold text**"
      ],
      "metadata": {
        "id": "XuqJBH5nEpNR"
      }
    },
    {
      "cell_type": "code",
      "source": [
        "import keyword as kw\n",
        "kw = kw.kwlist\n",
        "print(kw)"
      ],
      "metadata": {
        "colab": {
          "base_uri": "https://localhost:8080/"
        },
        "id": "BpUaTDrQE27t",
        "outputId": "6e8fae4f-56c1-46d5-c0d2-fd126335c61c"
      },
      "execution_count": 4,
      "outputs": [
        {
          "output_type": "stream",
          "name": "stdout",
          "text": [
            "['False', 'None', 'True', 'and', 'as', 'assert', 'async', 'await', 'break', 'class', 'continue', 'def', 'del', 'elif', 'else', 'except', 'finally', 'for', 'from', 'global', 'if', 'import', 'in', 'is', 'lambda', 'nonlocal', 'not', 'or', 'pass', 'raise', 'return', 'try', 'while', 'with', 'yield']\n"
          ]
        }
      ]
    },
    {
      "cell_type": "markdown",
      "source": [
        "Ques 4:- Write a program that checks if a given word is a Python keyword ?"
      ],
      "metadata": {
        "id": "T-0FHYI1FtFd"
      }
    },
    {
      "cell_type": "code",
      "source": [
        "import keyword\n",
        "\n",
        "word = input(\"Enter a word: \")\n",
        "\n",
        "if keyword.iskeyword(word):\n",
        "    print(f\"'{word}' is a Python keyword.\")\n",
        "else:\n",
        "    print(f\"'{word}' is NOT a Python keyword.\")\n"
      ],
      "metadata": {
        "colab": {
          "base_uri": "https://localhost:8080/"
        },
        "id": "m2nwEm4EF5ss",
        "outputId": "89b062c6-4e37-4805-c43b-d05912d91562"
      },
      "execution_count": 8,
      "outputs": [
        {
          "output_type": "stream",
          "name": "stdout",
          "text": [
            "Enter a word: hello\n",
            "'hello' is NOT a Python keyword.\n"
          ]
        }
      ]
    },
    {
      "cell_type": "markdown",
      "source": [
        "Ques 5:- Create a list and tuple in Python, and demonstrate how attempting to change an element works differently\n",
        "for each."
      ],
      "metadata": {
        "id": "Anqwmzo6GLV-"
      }
    },
    {
      "cell_type": "code",
      "source": [
        "list = [10, 20, 30]\n",
        "tuple = (10, 20, 30)\n",
        "\n",
        "print(\"Actual list:\", list)\n",
        "list[1] = 99\n",
        "print(\"Updated list:\", list)\n",
        "\n",
        "print(\"Actual tuple:\", tuple)\n",
        "try:\n",
        "    tuple[1] = 99\n",
        "except TypeError as e:\n",
        "    print(\"Error:\", e)\n"
      ],
      "metadata": {
        "colab": {
          "base_uri": "https://localhost:8080/"
        },
        "id": "2zMlmpr4Ghrn",
        "outputId": "d1b9e3d0-3543-4f74-9e7a-e6ec50bfdb7e"
      },
      "execution_count": 10,
      "outputs": [
        {
          "output_type": "stream",
          "name": "stdout",
          "text": [
            "Actual list: [10, 20, 30]\n",
            "Updated list: [10, 99, 30]\n",
            "Actual tuple: (10, 20, 30)\n",
            "Error: 'tuple' object does not support item assignment\n"
          ]
        }
      ]
    },
    {
      "cell_type": "markdown",
      "source": [
        "Ques 6:-  Write a function to demonstrate the behavior of mutable and immutable argument."
      ],
      "metadata": {
        "id": "FCEaYD4hH85D"
      }
    },
    {
      "cell_type": "code",
      "source": [
        "'N/A'"
      ],
      "metadata": {
        "id": "Y25mEO3QIXW3"
      },
      "execution_count": null,
      "outputs": []
    },
    {
      "cell_type": "markdown",
      "source": [
        "Ques 7:-  Write a program that performs basic arithmetic operations on two user-input numbers."
      ],
      "metadata": {
        "id": "10YVZlPFIphN"
      }
    },
    {
      "cell_type": "code",
      "source": [
        "num1 = float(input(\"Enter first number: \"))\n",
        "num2 = float(input(\"Enter second number: \"))\n",
        "\n",
        "addition = num1 + num2\n",
        "subtraction = num1 - num2\n",
        "multiplication = num1 * num2\n",
        "\n",
        "if num2 != 0:\n",
        "    division = num1 / num2\n",
        "else:\n",
        "    division = \"Undefined (cannot divide by zero)\"\n",
        "\n",
        "print(\"Results:\")\n",
        "print(\"Addition:\", addition)\n",
        "print(\"Subtraction:\", subtraction)\n",
        "print(\"Multiplication:\", multiplication)\n",
        "print(\"Division:\", division)\n"
      ],
      "metadata": {
        "colab": {
          "base_uri": "https://localhost:8080/"
        },
        "id": "wmeemYpzIp95",
        "outputId": "6e37d856-b179-4de1-f018-77ce87d67675"
      },
      "execution_count": 12,
      "outputs": [
        {
          "output_type": "stream",
          "name": "stdout",
          "text": [
            "Enter first number: 78\n",
            "Enter second number: 35\n",
            "Results:\n",
            "Addition: 113.0\n",
            "Subtraction: 43.0\n",
            "Multiplication: 2730.0\n",
            "Division: 2.2285714285714286\n"
          ]
        }
      ]
    },
    {
      "cell_type": "markdown",
      "source": [
        "Ques 8:- Write a program to demonstrate the use of logical operators."
      ],
      "metadata": {
        "id": "ZXMbgodNJQWI"
      }
    },
    {
      "cell_type": "code",
      "source": [
        "\n",
        "a = int(input(\"Enter first number (a): \"))\n",
        "b = int(input(\"Enter second number (b): \"))\n",
        "\n",
        "print(\"Logical Operator Demonstration:\")\n",
        "print(\"a > 0 and b > 0:\", a > 0 and b > 0)\n",
        "print(\"a > 0 or b > 0:\", a > 0 or b > 0)\n",
        "\n",
        "print(\"not(a > 0):\", not(a > 0))\n"
      ],
      "metadata": {
        "colab": {
          "base_uri": "https://localhost:8080/"
        },
        "id": "ZH78XaVzJbeW",
        "outputId": "b4041386-d032-482e-928a-d053d11dda8f"
      },
      "execution_count": 13,
      "outputs": [
        {
          "output_type": "stream",
          "name": "stdout",
          "text": [
            "Enter first number (a): 6\n",
            "Enter second number (b): 7\n",
            "Logical Operator Demonstration:\n",
            "a > 0 and b > 0: True\n",
            "a > 0 or b > 0: True\n",
            "not(a > 0): False\n"
          ]
        }
      ]
    },
    {
      "cell_type": "markdown",
      "source": [
        "Ques 9:-  Write a Python program to convert user input from string to integer, float, and boolean type."
      ],
      "metadata": {
        "id": "3Z5_eWuckwYe"
      }
    },
    {
      "cell_type": "code",
      "source": [
        "x = input(\"Enter a value: \")\n",
        "\n",
        "int_value = int(x)\n",
        "print(\"As Integer:\", int_value)\n",
        "\n",
        "float_value = float(x)\n",
        "print(\"As Float:\", float_value)\n",
        "\n",
        "bool_value = bool(x)\n",
        "print(\"As Boolean:\", bool_value)\n"
      ],
      "metadata": {
        "colab": {
          "base_uri": "https://localhost:8080/"
        },
        "id": "WMRq77iXlfdB",
        "outputId": "02fa37d2-572f-4918-87e5-1cc92ee51e17"
      },
      "execution_count": 5,
      "outputs": [
        {
          "output_type": "stream",
          "name": "stdout",
          "text": [
            "Enter a value: 1\n",
            "As Integer: 1\n",
            "As Float: 1.0\n",
            "As Boolean: True\n"
          ]
        }
      ]
    },
    {
      "cell_type": "markdown",
      "source": [
        "Ques 10:- Write code to demonstrate type casting with list elements."
      ],
      "metadata": {
        "id": "BJcvdCMUl_Wj"
      }
    },
    {
      "cell_type": "code",
      "source": [
        "list = ['10', '20', '30']\n",
        "\n",
        "a = int(list[0])\n",
        "b = int(list[1])\n",
        "c = int(list[2])\n",
        "print(\"Integer List:\", [a, b, c])\n",
        "\n",
        "x = float(list[0])\n",
        "y = float(list[1])\n",
        "z = float(list[2])\n",
        "print(\"Float List:\", [x, y, z])\n",
        "\n",
        "p = bool(list[0])\n",
        "q = bool(list[1])\n",
        "r = bool(list[2])\n",
        "print(\"Boolean List:\", [p, q, r])\n"
      ],
      "metadata": {
        "colab": {
          "base_uri": "https://localhost:8080/"
        },
        "id": "HaumnVTwmGr7",
        "outputId": "8aae3b01-2970-4de4-aa2f-4401a5feef9f"
      },
      "execution_count": 7,
      "outputs": [
        {
          "output_type": "stream",
          "name": "stdout",
          "text": [
            "Integer List: [10, 20, 30]\n",
            "Float List: [10.0, 20.0, 30.0]\n",
            "Boolean List: [True, True, True]\n"
          ]
        }
      ]
    },
    {
      "cell_type": "markdown",
      "source": [
        "Ques 11:-  Write a program that checks if a number is positive, negative, or zero."
      ],
      "metadata": {
        "id": "DWxRMy_4mse-"
      }
    },
    {
      "cell_type": "code",
      "source": [
        "num = int(input(\"Enter a number: \"))\n",
        "\n",
        "if num > 0:\n",
        "    print(\"The number is positive.\")\n",
        "elif num < 0:\n",
        "    print(\"The number is negative.\")\n",
        "else:\n",
        "    print(\"The number is zero.\")\n",
        "\n"
      ],
      "metadata": {
        "colab": {
          "base_uri": "https://localhost:8080/"
        },
        "id": "hX4L3CcZm2mX",
        "outputId": "3b6569f9-3f41-47bb-f95f-36b2a3601cbf"
      },
      "execution_count": 13,
      "outputs": [
        {
          "output_type": "stream",
          "name": "stdout",
          "text": [
            "Enter a number: 0\n",
            "The number is zero.\n"
          ]
        }
      ]
    },
    {
      "cell_type": "markdown",
      "source": [
        "Ques 12:-  Write a for loop to print numbers from 1 to 10.\n"
      ],
      "metadata": {
        "id": "g3bdFep4nPOP"
      }
    },
    {
      "cell_type": "code",
      "source": [
        "x = 1\n",
        "for x in range(1,101):\n",
        "  print(x)\n",
        "x +=1"
      ],
      "metadata": {
        "colab": {
          "base_uri": "https://localhost:8080/"
        },
        "id": "ZqGb-kgdnV2L",
        "outputId": "0a45e19b-2d97-48c7-cf87-2d5716dca8bc"
      },
      "execution_count": 15,
      "outputs": [
        {
          "output_type": "stream",
          "name": "stdout",
          "text": [
            "1\n",
            "2\n",
            "3\n",
            "4\n",
            "5\n",
            "6\n",
            "7\n",
            "8\n",
            "9\n",
            "10\n",
            "11\n",
            "12\n",
            "13\n",
            "14\n",
            "15\n",
            "16\n",
            "17\n",
            "18\n",
            "19\n",
            "20\n",
            "21\n",
            "22\n",
            "23\n",
            "24\n",
            "25\n",
            "26\n",
            "27\n",
            "28\n",
            "29\n",
            "30\n",
            "31\n",
            "32\n",
            "33\n",
            "34\n",
            "35\n",
            "36\n",
            "37\n",
            "38\n",
            "39\n",
            "40\n",
            "41\n",
            "42\n",
            "43\n",
            "44\n",
            "45\n",
            "46\n",
            "47\n",
            "48\n",
            "49\n",
            "50\n",
            "51\n",
            "52\n",
            "53\n",
            "54\n",
            "55\n",
            "56\n",
            "57\n",
            "58\n",
            "59\n",
            "60\n",
            "61\n",
            "62\n",
            "63\n",
            "64\n",
            "65\n",
            "66\n",
            "67\n",
            "68\n",
            "69\n",
            "70\n",
            "71\n",
            "72\n",
            "73\n",
            "74\n",
            "75\n",
            "76\n",
            "77\n",
            "78\n",
            "79\n",
            "80\n",
            "81\n",
            "82\n",
            "83\n",
            "84\n",
            "85\n",
            "86\n",
            "87\n",
            "88\n",
            "89\n",
            "90\n",
            "91\n",
            "92\n",
            "93\n",
            "94\n",
            "95\n",
            "96\n",
            "97\n",
            "98\n",
            "99\n",
            "100\n"
          ]
        }
      ]
    },
    {
      "cell_type": "markdown",
      "source": [
        "Ques 13:-  Write a Python program to find the sum of all even numbers between 1 and 50."
      ],
      "metadata": {
        "id": "0XYIsdPMnmdH"
      }
    },
    {
      "cell_type": "code",
      "source": [
        "x = 0\n",
        "\n",
        "for num in range(1, 51):\n",
        "    if num % 2 == 0:\n",
        "        x += num\n",
        "print(\"The sum of all even numbers between 1 and 50 is:\", x)\n"
      ],
      "metadata": {
        "colab": {
          "base_uri": "https://localhost:8080/"
        },
        "id": "ehcsJwlVnx81",
        "outputId": "454838af-d93b-444a-fee2-e6dbef503234"
      },
      "execution_count": 19,
      "outputs": [
        {
          "output_type": "stream",
          "name": "stdout",
          "text": [
            "The sum of all even numbers between 1 and 50 is: 650\n"
          ]
        }
      ]
    },
    {
      "cell_type": "markdown",
      "source": [
        "Ques 14:- Write a program to reverse a string using a while loop."
      ],
      "metadata": {
        "id": "Co4w4jj5oeTr"
      }
    },
    {
      "cell_type": "code",
      "source": [
        "'N/A'"
      ],
      "metadata": {
        "id": "vZTwqRmsoptb"
      },
      "execution_count": null,
      "outputs": []
    },
    {
      "cell_type": "markdown",
      "source": [
        "Ques 15:- Write a Python program to calculate the factorial of a number provided by the user using a while loop."
      ],
      "metadata": {
        "id": "Rxu_RYs4o3Lw"
      }
    },
    {
      "cell_type": "code",
      "source": [
        "num = int(input(\"Enter a number: \"))\n",
        "\n",
        "factorial = 1\n",
        "\n",
        "if num < 0:\n",
        "    print(\"Factorial can't be justified for '0'.\")\n",
        "else:\n",
        "    while num > 0:\n",
        "        factorial *= num\n",
        "        num -= 1\n",
        "\n",
        "    # Display the factorial result\n",
        "    print(\"The factorial is:\", factorial)\n"
      ],
      "metadata": {
        "colab": {
          "base_uri": "https://localhost:8080/"
        },
        "id": "3AZDUgjqo8Xx",
        "outputId": "9f9bce16-0e02-4f3d-c750-e6c9783c6014"
      },
      "execution_count": 21,
      "outputs": [
        {
          "output_type": "stream",
          "name": "stdout",
          "text": [
            "Enter a number: 4\n",
            "The factorial is: 24\n"
          ]
        }
      ]
    }
  ]
}